{
 "cells": [
  {
   "cell_type": "code",
   "execution_count": 11,
   "id": "8a505077-9d41-4730-b5be-8c530c59abb9",
   "metadata": {},
   "outputs": [],
   "source": [
    "# import necessary modules\n",
    "# uncomment to get plots displayed in notebook\n",
    "%matplotlib inline\n",
    "import matplotlib\n",
    "import matplotlib.pyplot as plt\n",
    "import numpy as np\n",
    "from classy import Class\n",
    "from scipy.optimize import fsolve\n",
    "from scipy.interpolate import interp1d\n",
    "import math"
   ]
  },
  {
   "cell_type": "code",
   "execution_count": 12,
   "id": "afb4af14-4c1a-4d10-bdca-5a2bc6fd8586",
   "metadata": {},
   "outputs": [],
   "source": [
    "# esthetic definitions for the plots\n",
    "font = {'size'   : 16, 'family':'STIXGeneral'}\n",
    "axislabelfontsize='large'\n",
    "matplotlib.rc('font', **font)\n",
    "matplotlib.mathtext.rcParams['legend.fontsize']='medium'\n",
    "plt.rcParams[\"figure.figsize\"] = [8.0,6.0]"
   ]
  },
  {
   "cell_type": "code",
   "execution_count": 13,
   "id": "5451c712-527a-4b7f-bfae-67d45727c6aa",
   "metadata": {},
   "outputs": [],
   "source": [
    "#############################################\n",
    "#\n",
    "# Cosmological parameters and other CLASS parameters\n",
    "#\n",
    "common_settings = {# wich output? ClTT, transfer functions delta_i and theta_i\n",
    "                   'output':'tCl lCl', \n",
    "                   # LambdaCDM parameters\n",
    "                   #'h':0.67556,\n",
    "                   'H0':72.81,\n",
    "                   'omega_b':0.02251,\n",
    "                   'omega_cdm':0.1320,\n",
    "                   'A_s':2.191e-9,\n",
    "                   'tau_reio':0.068,\n",
    "                   # Take fixed value for primordial Helium (instead of automatic BBN adjustment)\n",
    "                   #'YHe':0.246, \n",
    "                   # other output and precision parameters\n",
    "                   #'l_max_scalars':3000,\n",
    "                   #some fluid aprx parameters:\n",
    "                   'scf_potential':'axion',\n",
    "                   'n_axion':1,\n",
    "                   'log10_axion_ac': -3.531,\n",
    "                   'fraction_axion_ac': 0.1,\n",
    "                   #some EDE parameters\n",
    "                   #'scf_potential':'axion',\n",
    "                   #'n_axion': 2.6,\n",
    "                   #'log10_axion_ac': -3.531,\n",
    "                   #'fraction_axion_ac': 0.132,\n",
    "                   #'scf_parameters': 2.72,0.0\n",
    "                    }\n",
    "                                        \n",
    "                  "
   ]
  },
  {
   "cell_type": "code",
   "execution_count": 14,
   "id": "41002dc6-8ff6-40b4-aed7-4bf78caa7008",
   "metadata": {},
   "outputs": [
    {
     "name": "stdout",
     "output_type": "stream",
     "text": [
      "\n",
      "Note: you may need to restart the kernel to use updated packages.\n"
     ]
    }
   ],
   "source": [
    "conda env export > environment.yml"
   ]
  },
  {
   "cell_type": "code",
   "execution_count": 4,
   "id": "522a7c36-6cad-44b0-a202-4752e150945e",
   "metadata": {},
   "outputs": [
    {
     "ename": "CosmoSevereError",
     "evalue": "\n\nError in Class: Class did not read input parameter(s): scf_potential, n_axion, log10_axion_ac, fraction_axion_ac\n",
     "output_type": "error",
     "traceback": [
      "\u001b[0;31m---------------------------------------------------------------------------\u001b[0m",
      "\u001b[0;31mCosmoSevereError\u001b[0m                          Traceback (most recent call last)",
      "Input \u001b[0;32mIn [6]\u001b[0m, in \u001b[0;36m<cell line: 12>\u001b[0;34m()\u001b[0m\n\u001b[1;32m     10\u001b[0m M\u001b[38;5;241m.\u001b[39mset(common_settings)\n\u001b[1;32m     11\u001b[0m M\u001b[38;5;241m.\u001b[39mset({\u001b[38;5;124m'\u001b[39m\u001b[38;5;124moutput\u001b[39m\u001b[38;5;124m'\u001b[39m:\u001b[38;5;124m'\u001b[39m\u001b[38;5;124mtCl, lCl\u001b[39m\u001b[38;5;124m'\u001b[39m,\u001b[38;5;124m'\u001b[39m\u001b[38;5;124mmodes\u001b[39m\u001b[38;5;124m'\u001b[39m:\u001b[38;5;124m'\u001b[39m\u001b[38;5;124ms\u001b[39m\u001b[38;5;124m'\u001b[39m,\u001b[38;5;124m'\u001b[39m\u001b[38;5;124mlensing\u001b[39m\u001b[38;5;124m'\u001b[39m:\u001b[38;5;124m'\u001b[39m\u001b[38;5;124mno\u001b[39m\u001b[38;5;124m'\u001b[39m,\u001b[38;5;124m'\u001b[39m\u001b[38;5;124mn_s\u001b[39m\u001b[38;5;124m'\u001b[39m:\u001b[38;5;241m0.9860\u001b[39m,\u001b[38;5;124m'\u001b[39m\u001b[38;5;124ml_max_scalars\u001b[39m\u001b[38;5;124m'\u001b[39m:\u001b[38;5;241m3000\u001b[39m })\n\u001b[0;32m---> 12\u001b[0m \u001b[43mM\u001b[49m\u001b[38;5;241;43m.\u001b[39;49m\u001b[43mcompute\u001b[49m\u001b[43m(\u001b[49m\u001b[43m)\u001b[49m\n\u001b[1;32m     13\u001b[0m \u001b[38;5;28mcls\u001b[39m \u001b[38;5;241m=\u001b[39m M\u001b[38;5;241m.\u001b[39mraw_cl(\u001b[38;5;241m3000\u001b[39m)\n\u001b[1;32m     14\u001b[0m M\u001b[38;5;241m.\u001b[39mstruct_cleanup()\n",
      "File \u001b[0;32mclassy.pyx:372\u001b[0m, in \u001b[0;36mclassy.Class.compute\u001b[0;34m()\u001b[0m\n",
      "\u001b[0;31mCosmoSevereError\u001b[0m: \n\nError in Class: Class did not read input parameter(s): scf_potential, n_axion, log10_axion_ac, fraction_axion_ac\n"
     ]
    }
   ],
   "source": [
    "##############\n",
    "#    \n",
    "# call CLASS \n",
    "#\n",
    "###############\n",
    "#\n",
    "# scalars only\n",
    "#\n",
    "M = Class()\n",
    "M.set(common_settings)\n",
    "M.set({'output':'tCl, lCl','modes':'s','lensing':'no','n_s':0.9860,'l_max_scalars':3000 })\n",
    "M.compute()\n",
    "cls = M.raw_cl(3000)\n",
    "M.struct_cleanup()\n",
    "M.empty()\n",
    "\n",
    "\n",
    "\n"
   ]
  },
  {
   "cell_type": "code",
   "execution_count": null,
   "id": "ea753854-d7f9-40a8-aeac-1c3dcd65d764",
   "metadata": {},
   "outputs": [],
   "source": [
    "\n",
    "\n",
    "\n"
   ]
  },
  {
   "cell_type": "code",
   "execution_count": 1,
   "id": "c7f4d08d-c42a-46e1-a64e-0b29fb75e66b",
   "metadata": {},
   "outputs": [
    {
     "ename": "CosmoSevereError",
     "evalue": "\n\nError in Class: Class did not read input parameter(s): scf_potential, n_axion, log10_axion_ac, fraction_axion_ac\n",
     "output_type": "error",
     "traceback": [
      "\u001b[0;31m---------------------------------------------------------------------------\u001b[0m",
      "\u001b[0;31mCosmoSevereError\u001b[0m                          Traceback (most recent call last)",
      "Input \u001b[0;32mIn [7]\u001b[0m, in \u001b[0;36m<cell line: 12>\u001b[0;34m()\u001b[0m\n\u001b[1;32m     10\u001b[0m M\u001b[38;5;241m.\u001b[39mset(common_settings)\n\u001b[1;32m     11\u001b[0m M\u001b[38;5;241m.\u001b[39mset({\u001b[38;5;124m'\u001b[39m\u001b[38;5;124moutput\u001b[39m\u001b[38;5;124m'\u001b[39m:\u001b[38;5;124m'\u001b[39m\u001b[38;5;124mtCl, lCl\u001b[39m\u001b[38;5;124m'\u001b[39m,\u001b[38;5;124m'\u001b[39m\u001b[38;5;124mmodes\u001b[39m\u001b[38;5;124m'\u001b[39m:\u001b[38;5;124m'\u001b[39m\u001b[38;5;124ms\u001b[39m\u001b[38;5;124m'\u001b[39m,\u001b[38;5;124m'\u001b[39m\u001b[38;5;124mlensing\u001b[39m\u001b[38;5;124m'\u001b[39m:\u001b[38;5;124m'\u001b[39m\u001b[38;5;124mno\u001b[39m\u001b[38;5;124m'\u001b[39m,\u001b[38;5;124m'\u001b[39m\u001b[38;5;124mn_s\u001b[39m\u001b[38;5;124m'\u001b[39m:\u001b[38;5;241m0.9860\u001b[39m,\u001b[38;5;124m'\u001b[39m\u001b[38;5;124ml_max_scalars\u001b[39m\u001b[38;5;124m'\u001b[39m:\u001b[38;5;241m3000\u001b[39m })\n\u001b[0;32m---> 12\u001b[0m \u001b[43mM\u001b[49m\u001b[38;5;241;43m.\u001b[39;49m\u001b[43mcompute\u001b[49m\u001b[43m(\u001b[49m\u001b[43m)\u001b[49m\n\u001b[1;32m     13\u001b[0m \u001b[38;5;28mcls\u001b[39m \u001b[38;5;241m=\u001b[39m M\u001b[38;5;241m.\u001b[39mraw_cl(\u001b[38;5;241m3000\u001b[39m)\n\u001b[1;32m     14\u001b[0m M\u001b[38;5;241m.\u001b[39mstruct_cleanup()\n",
      "File \u001b[0;32mclassy.pyx:372\u001b[0m, in \u001b[0;36mclassy.Class.compute\u001b[0;34m()\u001b[0m\n",
      "\u001b[0;31mCosmoSevereError\u001b[0m: \n\nError in Class: Class did not read input parameter(s): scf_potential, n_axion, log10_axion_ac, fraction_axion_ac\n"
     ]
    }
   ],
   "source": [
    "# tensors only\n",
    "#\n",
    "M = Class()\n",
    "M.set(common_settings)\n",
    "l_max_tensors = 600\n",
    "M.set({'output':'tCl,pCl','modes':'t','lensing':'no','r':0.1,'n_t':0,'l_max_tensors':l_max_tensors})\n",
    "M.compute()\n",
    "clt = M.raw_cl(600)\n",
    "M.struct_cleanup()\n",
    "M.empty()\n",
    "clt\n",
    "# for l_max=600 we can keep default precision\n",
    "# for l_max = 3000 we would need to import many high precision settings from the file cl_ref.pre\n",
    "#M.set({'output':'tCl,pCl','modes':'t','lensing':'no','r':0.1,'n_t':0,'l_max_tensors':3000})\n",
    "#M.set({\n",
    "#'recfast_Nz0':100000,\n",
    "#'tol_thermo_integration':1.e-5,\n",
    "#'recfast_x_He0_trigger_delta':0.01,\n",
    "#'recfast_x_H0_trigger_delta':0.01,\n",
    "#'evolver':0,\n",
    "#'k_min_tau0':0.002,\n",
    "#'k_max_tau0_over_l_max':3.,\n",
    "#'k_step_sub':0.015,\n",
    "#'k_step_super':0.0001,\n",
    "#'k_step_super_reduction':0.1,\n",
    "#'start_small_k_at_tau_c_over_tau_h':0.0004,\n",
    "#'start_large_k_at_tau_h_over_tau_k':0.05,\n",
    "#'tight_coupling_trigger_tau_c_over_tau_h':0.005,\n",
    "#'tight_coupling_trigger_tau_c_over_tau_k':0.008,\n",
    "#'start_sources_at_tau_c_over_tau_h':0.006,\n",
    "#'l_max_g':50,\n",
    "#'l_max_pol_g':25,\n",
    "#'l_max_ur':50,\n",
    "#'tol_perturb_integration':1.e-6,\n",
    "#'perturb_sampling_stepsize':0.01,\n",
    "#'radiation_streaming_approximation':2,\n",
    "#'radiation_streaming_trigger_tau_over_tau_k':240.,\n",
    "#'radiation_streaming_trigger_tau_c_over_tau':100.,\n",
    "#'ur_fluid_approximation':2,\n",
    "#'ur_fluid_trigger_tau_over_tau_k':50.,\n",
    "#'l_logstep':1.026,\n",
    "#'l_linstep':25,\n",
    "#'hyper_sampling_flat':12.,\n",
    "#'hyper_nu_sampling_step':10.,\n",
    "#'hyper_phi_min_abs':1.e-10,\n",
    "#'hyper_x_tol':1.e-4,\n",
    "#'hyper_flat_approximation_nu':1.e6,\n",
    "#'q_linstep':0.20,\n",
    "#'q_logstep_spline':20.,\n",
    "#'q_logstep_trapzd':0.5,\n",
    "#'q_numstep_transition':250,\n",
    "#'transfer_neglect_delta_k_T_t2':100.,\n",
    "#'transfer_neglect_delta_k_T_e':100.,\n",
    "#'transfer_neglect_delta_k_T_b':100.,\n",
    "#'neglect_CMB_sources_below_visibility':1.e-30,\n",
    "#'transfer_neglect_late_source':3000.\n",
    "#})\n",
    "\n"
   ]
  },
  {
   "cell_type": "code",
   "execution_count": 6,
   "id": "565b8177-10bd-4ddc-9080-3f14fda2e0d2",
   "metadata": {},
   "outputs": [],
   "source": [
    "# scalars + tensors (only in this case we can get the correct lensed ClBB)\n",
    "#\n",
    "M = Class()\n",
    "M.set(common_settings)\n",
    "M.set({'output':'tCl,pCl,lCl','modes':'s,t','lensing':'yes','r':0.1,'n_s':0.9619,'n_t':0,'l_max_scalars':3000,'l_max_tensors': 600})\n",
    "M.compute()\n",
    "#cl_tot = M.raw_cl(3000)\n",
    "cl_lensed = M.lensed_cl(3000)\n",
    "M.struct_cleanup()\n",
    "M.empty()\n",
    "#"
   ]
  },
  {
   "cell_type": "code",
   "execution_count": 12,
   "id": "70db3887-7655-42bf-8cbf-9c7679252d86",
   "metadata": {},
   "outputs": [
    {
     "data": {
      "text/plain": [
       "<matplotlib.legend.Legend at 0x7fe5149cbbe0>"
      ]
     },
     "execution_count": 12,
     "metadata": {},
     "output_type": "execute_result"
    },
    {
     "data": {
      "image/png": "[encoded data removed]",
      "text/plain": [
       "<Figure size 576x432 with 1 Axes>"
      ]
     },
     "metadata": {
      "needs_background": "light"
     },
     "output_type": "display_data"
    }
   ],
   "source": [
    "#################\n",
    "#\n",
    "# start plotting\n",
    "#\n",
    "#################\n",
    "#\n",
    "plt.xlim([2,3000])\n",
    "plt.ylim([1.e-8,10])\n",
    "plt.xlabel(r\"$\\ell$\")\n",
    "plt.ylabel(r\"$\\ell (\\ell+1) C_l^{XY} / 2 \\pi \\,\\,\\, [\\times 10^{10}]$\")\n",
    "plt.title(r\"$r=0.1$\")\n",
    "plt.grid()\n",
    "ell = cls['ell']\n",
    "#ell = cl_tot['ell']\n",
    "#ellt = clt['ell']\n",
    "factor = 1.e10*ell*(ell+1.)/2./math.pi\n",
    "#factort = 1.e10*ellt*(ellt+1.)/2./math.pi\n",
    "#\n",
    "plt.plot(ell,factor*cls['tt'],'r-',label=r'$\\mathrm{TT(s)}$')\n",
    "#plt.loglog(ellt,factort*clt['tt'],'r:',label=r'$\\mathrm{TT(t)}$')\n",
    "#plt.loglog(ell,factor*cls['ee'],'b-',label=r'$\\mathrm{EE(s)}$')\n",
    "#plt.loglog(ellt,factort*clt['ee'],'b:',label=r'$\\mathrm{EE(t)}$')\n",
    "#plt.loglog(ellt,factort*clt['bb'],'g:',label=r'$\\mathrm{BB(t)}$')\n",
    "#plt.loglog(ell,factor*(cl_lensed['bb']-cl_tot['bb']),'g-',label=r'$\\mathrm{BB(lensing)}$')\n",
    "plt.legend(loc='right',bbox_to_anchor=(1.4, 0.5))\n"
   ]
  },
  {
   "cell_type": "code",
   "execution_count": null,
   "id": "e3cd93b9-b0a1-4fb2-b087-c43d0094f561",
   "metadata": {},
   "outputs": [],
   "source": []
  }
 ],
 "metadata": {
  "kernelspec": {
   "display_name": "camb",
   "language": "python",
   "name": "camb"
  },
  "language_info": {
   "codemirror_mode": {
    "name": "ipython",
    "version": 3
   },
   "file_extension": ".py",
   "mimetype": "text/x-python",
   "name": "python",
   "nbconvert_exporter": "python",
   "pygments_lexer": "ipython3",
   "version": "3.9.13"
  }
 },
 "nbformat": 4,
 "nbformat_minor": 5
}
